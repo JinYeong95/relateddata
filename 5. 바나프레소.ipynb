{
 "cells": [
  {
   "cell_type": "code",
   "execution_count": 2,
   "id": "c2056b5e",
   "metadata": {},
   "outputs": [
    {
     "name": "stdout",
     "output_type": "stream",
     "text": [
      "Requirement already satisfied: requests in c:\\users\\강진영\\appdata\\local\\programs\\python\\python311\\lib\\site-packages (2.31.0)\n",
      "Requirement already satisfied: charset-normalizer<4,>=2 in c:\\users\\강진영\\appdata\\local\\programs\\python\\python311\\lib\\site-packages (from requests) (3.1.0)\n",
      "Requirement already satisfied: idna<4,>=2.5 in c:\\users\\강진영\\appdata\\local\\programs\\python\\python311\\lib\\site-packages (from requests) (3.4)\n",
      "Requirement already satisfied: urllib3<3,>=1.21.1 in c:\\users\\강진영\\appdata\\local\\programs\\python\\python311\\lib\\site-packages (from requests) (2.0.2)\n",
      "Requirement already satisfied: certifi>=2017.4.17 in c:\\users\\강진영\\appdata\\local\\programs\\python\\python311\\lib\\site-packages (from requests) (2023.5.7)\n",
      "Requirement already satisfied: webdriver_manager in c:\\users\\강진영\\appdata\\local\\programs\\python\\python311\\lib\\site-packages (3.8.6)\n",
      "Requirement already satisfied: requests in c:\\users\\강진영\\appdata\\local\\programs\\python\\python311\\lib\\site-packages (from webdriver_manager) (2.31.0)\n",
      "Requirement already satisfied: python-dotenv in c:\\users\\강진영\\appdata\\local\\programs\\python\\python311\\lib\\site-packages (from webdriver_manager) (1.0.0)\n",
      "Requirement already satisfied: tqdm in c:\\users\\강진영\\appdata\\local\\programs\\python\\python311\\lib\\site-packages (from webdriver_manager) (4.65.0)\n",
      "Requirement already satisfied: packaging in c:\\users\\강진영\\appdata\\local\\programs\\python\\python311\\lib\\site-packages (from webdriver_manager) (23.1)\n",
      "Requirement already satisfied: charset-normalizer<4,>=2 in c:\\users\\강진영\\appdata\\local\\programs\\python\\python311\\lib\\site-packages (from requests->webdriver_manager) (3.1.0)\n",
      "Requirement already satisfied: idna<4,>=2.5 in c:\\users\\강진영\\appdata\\local\\programs\\python\\python311\\lib\\site-packages (from requests->webdriver_manager) (3.4)\n",
      "Requirement already satisfied: urllib3<3,>=1.21.1 in c:\\users\\강진영\\appdata\\local\\programs\\python\\python311\\lib\\site-packages (from requests->webdriver_manager) (2.0.2)\n",
      "Requirement already satisfied: certifi>=2017.4.17 in c:\\users\\강진영\\appdata\\local\\programs\\python\\python311\\lib\\site-packages (from requests->webdriver_manager) (2023.5.7)\n",
      "Requirement already satisfied: colorama in c:\\users\\강진영\\appdata\\local\\programs\\python\\python311\\lib\\site-packages (from tqdm->webdriver_manager) (0.4.6)\n"
     ]
    }
   ],
   "source": [
    "!pip install requests\n",
    "!pip install webdriver_manager"
   ]
  },
  {
   "cell_type": "code",
   "execution_count": 3,
   "id": "ed40d1f9",
   "metadata": {},
   "outputs": [],
   "source": [
    "import requests\n",
    "import time\n",
    "from bs4 import BeautifulSoup\n",
    "import chromedriver_autoinstaller\n",
    "from selenium.webdriver.common.by import By # Xpath, xml 등등 여러가지 path를 쓰는데 있어 상수로 만들어주는 역할 ? => \n",
    "from selenium import webdriver\n",
    "from urllib.request import Request, urlopen"
   ]
  },
  {
   "cell_type": "code",
   "execution_count": 6,
   "id": "6734a056",
   "metadata": {
    "scrolled": false
   },
   "outputs": [
    {
     "name": "stdout",
     "output_type": "stream",
     "text": [
      "매장명 :  가산디지털단지역점 주소 : 서울시 금천구 가산동 60-3 \n",
      "---------------------------------------------\n",
      "매장명 :  강남구청점 주소 : 서울 강남구 청담동 45-4\n",
      "---------------------------------------------\n",
      "매장명 :  강남역사거리점 주소 : 서울특별시 강남구 역삼동 820-10\n",
      "---------------------------------------------\n",
      "매장명 :  강남역점 주소 : 서울 강남구 역삼동822-7\n",
      "---------------------------------------------\n",
      "매장명 :  강남점 주소 : 서울 강남구 테헤란로4길 46 (역삼동 826-37) 쌍용 플래티넘, 1층\n",
      "---------------------------------------------\n",
      "매장명 :  강남효성점 주소 : 서울 강남구 역삼동 825-24\n",
      "---------------------------------------------\n",
      "매장명 :  강동역점 주소 : 서울 강동구 천호동 447\n",
      "---------------------------------------------\n",
      "매장명 :  거여역점 주소 : 서울특별시 송파구 거여동 37-6\n",
      "---------------------------------------------\n",
      "매장명 :  건대역점 주소 : 서울 광진구 아차산로 221 (화양동 7-4)\n",
      "---------------------------------------------\n",
      "매장명 :  경희대점 주소 : 서울 동대문구 경희대로4길 1\n",
      "---------------------------------------------\n"
     ]
    }
   ],
   "source": [
    "driver = webdriver.Chrome()\n",
    "driver.implicitly_wait(3)\n",
    "driver.get('https://banapresso.com/store')\n",
    "soup = BeautifulSoup(driver.page_source)\n",
    "time.sleep(3)\n",
    "\n",
    "info2 = soup.findAll('span', {'class', 'store_name_map'})\n",
    "# print(info2)\n",
    "\n",
    "# buttonclick2 = '/html/body/div/div/div/div/article/div/section/div/div[1]/div[3]/ul/li[2]'\n",
    "# buttonclick3 = '/html/body/div/div/div/div/article/div/section/div/div[1]/div[3]/ul/li[3]'\n",
    "# buttonclick4 = '/html/body/div/div/div/div/article/div/section/div/div[1]/div[3]/ul/li[4]'\n",
    "# buttonclick5 = '/html/body/div/div/div/div/article/div/section/div/div[1]/div[3]/ul/li[5]'\n",
    "# nextpage = '/html/body/div/div/div/div/article/div/section/div/div[1]/div[3]/span/a'\n",
    "\n",
    "for item in info2:\n",
    "    i_value = item.find('i').text\n",
    "    span_value = item.find('span').text\n",
    "    print('매장명 : ', i_value, '주소 :', span_value)\n",
    "\n",
    "    print('---------------------------------------------')"
   ]
  },
  {
   "cell_type": "code",
   "execution_count": 9,
   "id": "ddbefd9e",
   "metadata": {},
   "outputs": [
    {
     "name": "stdout",
     "output_type": "stream",
     "text": [
      "[<selenium.webdriver.remote.webelement.WebElement (session=\"cfc5760f9f7c83ae93441ca1d5f1db03\", element=\"369D68DDE66FD7E489143D4986218FFB_element_36\")>, <selenium.webdriver.remote.webelement.WebElement (session=\"cfc5760f9f7c83ae93441ca1d5f1db03\", element=\"369D68DDE66FD7E489143D4986218FFB_element_37\")>, <selenium.webdriver.remote.webelement.WebElement (session=\"cfc5760f9f7c83ae93441ca1d5f1db03\", element=\"369D68DDE66FD7E489143D4986218FFB_element_38\")>, <selenium.webdriver.remote.webelement.WebElement (session=\"cfc5760f9f7c83ae93441ca1d5f1db03\", element=\"369D68DDE66FD7E489143D4986218FFB_element_39\")>, <selenium.webdriver.remote.webelement.WebElement (session=\"cfc5760f9f7c83ae93441ca1d5f1db03\", element=\"369D68DDE66FD7E489143D4986218FFB_element_40\")>]\n"
     ]
    }
   ],
   "source": [
    "page = driver.find_elements(By.CSS_SELECTOR,'div.pagination > ul a')\n",
    "print(page)"
   ]
  },
  {
   "cell_type": "code",
   "execution_count": 10,
   "id": "1bfa68f4",
   "metadata": {},
   "outputs": [
    {
     "name": "stdout",
     "output_type": "stream",
     "text": [
      "가산디지털단지역점\n",
      "서울시 금천구 가산동 60-3\n",
      "강남구청점\n",
      "서울 강남구 청담동 45-4\n",
      "강남역사거리점\n",
      "서울특별시 강남구 역삼동 820-10\n",
      "강남역점\n",
      "서울 강남구 역삼동822-7\n",
      "강남점\n",
      "서울 강남구 테헤란로4길 46 (역삼동 826-37) 쌍용 플래티넘, 1층\n",
      "강남효성점\n",
      "서울 강남구 역삼동 825-24\n",
      "강동역점\n",
      "서울 강동구 천호동 447\n",
      "거여역점\n",
      "서울특별시 송파구 거여동 37-6\n",
      "건대역점\n",
      "서울 광진구 아차산로 221 (화양동 7-4)\n",
      "경희대점\n",
      "서울 동대문구 경희대로4길 1\n",
      "광명하안점\n",
      "광명시 하안동 36-2\n",
      "교대사거리점\n",
      "서울 서초구 서초동 1598-1\n",
      "교대역점\n",
      "서울 서초구 반포대로30길 82\n",
      "교대점\n",
      "서울 서초구 서초대로54길 27, 1층\n",
      "교육개발원사거리점\n",
      "서울 서초구 강남대로27길 7-21 1층\n",
      "구로비즈메트로점\n",
      "서울시 구로구 구로동 851번지 한화비즈메트로1차 109호\n",
      "구로지플러스점\n",
      "서울시 구로구 구로동 222-31\n",
      "국기원사거리점\n",
      "서울 강남구 테헤란로8길 26 (역삼동827-48)\n",
      "군포첨단산업단지점\n",
      "경기도 군포시 부곡동 1244-4 1층\n",
      "길동역점\n",
      "서울 강동구 양재대로 1490 (길동 366-5)\n",
      "김포구래점\n",
      "경기도 김포시 구래동 6883-10 103호\n",
      "낙성대역점\n",
      "서울시 관악구 봉천동 1658-19\n",
      "남대문점\n",
      "서울 중구 세종대로 15 남대문5가 6-7\n",
      "남부터미널점\n",
      "서울 서초구 효령로57길 1\n",
      "답십리역점\n",
      "서울특별시 동대문구 천호대로 289, 한일노벨리아 104호\n",
      "대치선릉점\n",
      "서울특별시 강남구 대치동 890-45\n",
      "대치역점\n",
      "서울 강남구 대치동 507\n",
      "대치은마점\n",
      "서울 강남구 도곡로 451 (대치동 941-22) 한나빌딩, 1층\n",
      "대치점\n",
      "서울 강남구 테헤란로 84길 14 (대치동 942-19), 1층\n",
      "대치포스코점\n",
      "서울 강남구 테헤란로78길 16 (대치동 891-44) 노벨빌딩 증축동, 1층/2층\n",
      "도곡역점\n",
      "서울특별시 강남구 남부순환로 2909 여천빌딩\n",
      "독도점\n",
      "경상북도 울릉군 울릉읍 독도리 산 1-96\n",
      "뚝섬역점\n",
      "서울시 성동구 성수동1가 13-164\n",
      "무교점\n",
      "서울특별시 중구 다동 155\n",
      "문정역점\n",
      "서울 송파구 법원로128 (문정동642-3, SKV1빌딩 1층)\n",
      "미아사거리역점\n",
      "서울시 강북구 미아동 60-5\n",
      "방배역점\n",
      "서울시 서초구 방배동 909-8\n",
      "범계역점\n",
      "경기도 안양시 동안구 호계동 1045\n",
      "보라매역점\n",
      "서울시 동작구 대방동 400-3\n",
      "분당서현점\n",
      "경기도 성남시 분당구 서현동 268-6 101호\n",
      "사당역점\n",
      "서울 서초구 방배동444-15\n",
      "삼성점\n",
      "서울특별시 강남구 삼성동 157-4 1층\n",
      "삼성중앙역점\n",
      "서울 강남구 삼성동 51-2 1층\n",
      "삼성타운점\n",
      "서울 서초구 서초대로78길 26 (서초동1327-7)\n",
      "삼성테헤란로점\n",
      "서울시 강남구 삼성동 144-23 1층\n",
      "상암DMC점\n",
      "서울 마포구 상암동 1605\n",
      "서소문로점\n",
      "서울 중구 서소문로 130 1층\n",
      "서초법원점\n",
      "서울시 서초구 서초동 1554-5 아스트라 101호, 102호\n",
      "서초위브점\n",
      "서울 서초구 서초동 1362\n",
      "서초점\n",
      "서울 서초구 서초대로 254 B105호 (서초동, 오퓨런스)\n"
     ]
    }
   ],
   "source": [
    "for p in page:\n",
    "    p.click()\n",
    "    time.sleep(2)\n",
    "    \n",
    "    info2 = driver.find_elements(By.CLASS_NAME, 'store_name_map')\n",
    "    \n",
    "    for store in info2:\n",
    "        print(store.find_element(By.TAG_NAME, 'i').text)  # tagname의 존재를 몰랐다\n",
    "        print(store.find_element(By.TAG_NAME, 'span').text)"
   ]
  },
  {
   "cell_type": "code",
   "execution_count": 35,
   "id": "0ea64172",
   "metadata": {},
   "outputs": [],
   "source": [
    "from selenium.common.exceptions import NoSuchElementException"
   ]
  },
  {
   "cell_type": "code",
   "execution_count": 18,
   "id": "ce36f54a",
   "metadata": {},
   "outputs": [],
   "source": [
    "def nextpage():\n",
    "    try:\n",
    "        nextpage = driver.find_element(By.CSS_SELECTOR, '.btn_page_next > a')\n",
    "        print(\"다음페이지 있음\")\n",
    "    except NoSuchElementException:\n",
    "        print(\"다음페이지 없음\")\n",
    "        return False\n",
    "    \n",
    "    nextpage.click()\n",
    "    time.sleep(3)\n",
    "    \n",
    "    return True\n",
    "\n",
    "def previous():\n",
    "    try:\n",
    "        previous = driver.find_element(By.CSS_SELECTOR, '.btn_page_prev > a')\n",
    "        print(\"이전페이지 있음\")\n",
    "    except NoSuchElementException:\n",
    "        print(\"이전페이지 없음\")\n",
    "        return False\n",
    "    \n",
    "    previous.click()\n",
    "    time.sleep(3)\n",
    "    \n",
    "    return True"
   ]
  },
  {
   "cell_type": "code",
   "execution_count": 20,
   "id": "0f7b8402",
   "metadata": {},
   "outputs": [
    {
     "name": "stdout",
     "output_type": "stream",
     "text": [
      "이전페이지 있음\n"
     ]
    },
    {
     "data": {
      "text/plain": [
       "True"
      ]
     },
     "execution_count": 20,
     "metadata": {},
     "output_type": "execute_result"
    }
   ],
   "source": [
    "previous()"
   ]
  },
  {
   "cell_type": "code",
   "execution_count": 21,
   "id": "a547bdd0",
   "metadata": {},
   "outputs": [
    {
     "name": "stdout",
     "output_type": "stream",
     "text": [
      "다음페이지 있음\n"
     ]
    },
    {
     "data": {
      "text/plain": [
       "True"
      ]
     },
     "execution_count": 21,
     "metadata": {},
     "output_type": "execute_result"
    }
   ],
   "source": [
    "nextpage()"
   ]
  },
  {
   "cell_type": "code",
   "execution_count": 29,
   "id": "23190349",
   "metadata": {},
   "outputs": [],
   "source": [
    "def Alldata():\n",
    "    datas = []\n",
    "    page = driver.find_elements(By.CSS_SELECTOR,'div.pagination > ul a')\n",
    "\n",
    "    for p in page:\n",
    "        p.click()\n",
    "        time.sleep(2)\n",
    "    \n",
    "        info2 = driver.find_elements(By.CLASS_NAME, 'store_name_map')\n",
    "    \n",
    "        for store in info2:\n",
    "            name = store.find_element(By.TAG_NAME, 'i').text\n",
    "            loc = store.find_element(By.TAG_NAME, 'span').text\n",
    "        \n",
    "            dic = {'이름':name, '위치':loc}\n",
    "            datas.append(dic)\n",
    "        \n",
    "    return datas"
   ]
  },
  {
   "cell_type": "code",
   "execution_count": 32,
   "id": "57298863",
   "metadata": {},
   "outputs": [
    {
     "name": "stdout",
     "output_type": "stream",
     "text": [
      "다음페이지 있음\n",
      "True\n",
      "다음페이지 있음\n",
      "True\n",
      "다음페이지 없음\n",
      "False\n"
     ]
    }
   ],
   "source": [
    "driver = webdriver.Chrome()\n",
    "driver.implicitly_wait(3)\n",
    "driver.get('https://banapresso.com/store')\n",
    "lists = []\n",
    "allownext = True\n",
    "\n",
    "while allownext:\n",
    "    result = Alldata()\n",
    "    lists += result\n",
    "    allownext = nextpage()\n",
    "    print(allownext)"
   ]
  },
  {
   "cell_type": "code",
   "execution_count": 33,
   "id": "52b262b3",
   "metadata": {},
   "outputs": [
    {
     "data": {
      "text/plain": [
       "110"
      ]
     },
     "execution_count": 33,
     "metadata": {},
     "output_type": "execute_result"
    }
   ],
   "source": [
    "len(lists)"
   ]
  },
  {
   "cell_type": "code",
   "execution_count": 37,
   "id": "030fa96e",
   "metadata": {},
   "outputs": [
    {
     "name": "stdout",
     "output_type": "stream",
     "text": [
      "Collecting pandas\n",
      "  Downloading pandas-2.0.2-cp311-cp311-win_amd64.whl (10.6 MB)\n",
      "                                              0.0/10.6 MB ? eta -:--:--\n",
      "     -                                        0.4/10.6 MB 12.9 MB/s eta 0:00:01\n",
      "     ---                                      1.0/10.6 MB 10.7 MB/s eta 0:00:01\n",
      "     -----                                    1.5/10.6 MB 11.7 MB/s eta 0:00:01\n",
      "     -------                                  2.0/10.6 MB 11.4 MB/s eta 0:00:01\n",
      "     ---------                                2.5/10.6 MB 11.6 MB/s eta 0:00:01\n",
      "     -----------                              3.0/10.6 MB 11.2 MB/s eta 0:00:01\n",
      "     -----------                              3.1/10.6 MB 11.2 MB/s eta 0:00:01\n",
      "     -----------                              3.1/10.6 MB 11.2 MB/s eta 0:00:01\n",
      "     -----------                              3.1/10.6 MB 11.2 MB/s eta 0:00:01\n",
      "     ------------                             3.4/10.6 MB 7.7 MB/s eta 0:00:01\n",
      "     --------------                           3.9/10.6 MB 8.0 MB/s eta 0:00:01\n",
      "     ----------------                         4.5/10.6 MB 8.4 MB/s eta 0:00:01\n",
      "     ------------------                       4.9/10.6 MB 8.6 MB/s eta 0:00:01\n",
      "     --------------------                     5.5/10.6 MB 9.0 MB/s eta 0:00:01\n",
      "     ----------------------                   5.9/10.6 MB 9.2 MB/s eta 0:00:01\n",
      "     ------------------------                 6.4/10.6 MB 9.3 MB/s eta 0:00:01\n",
      "     --------------------------               7.0/10.6 MB 9.5 MB/s eta 0:00:01\n",
      "     ----------------------------             7.4/10.6 MB 9.7 MB/s eta 0:00:01\n",
      "     ------------------------------           8.0/10.6 MB 9.8 MB/s eta 0:00:01\n",
      "     --------------------------------         8.6/10.6 MB 9.9 MB/s eta 0:00:01\n",
      "     ----------------------------------       9.1/10.6 MB 10.0 MB/s eta 0:00:01\n",
      "     ------------------------------------     9.7/10.6 MB 10.3 MB/s eta 0:00:01\n",
      "     ------------------------------------    10.0/10.6 MB 10.3 MB/s eta 0:00:01\n",
      "     --------------------------------------  10.6/10.6 MB 10.2 MB/s eta 0:00:01\n",
      "     ---------------------------------------- 10.6/10.6 MB 9.9 MB/s eta 0:00:00\n",
      "Requirement already satisfied: python-dateutil>=2.8.2 in c:\\users\\강진영\\appdata\\local\\programs\\python\\python311\\lib\\site-packages (from pandas) (2.8.2)\n",
      "Collecting pytz>=2020.1 (from pandas)\n",
      "  Downloading pytz-2023.3-py2.py3-none-any.whl (502 kB)\n",
      "                                              0.0/502.3 kB ? eta -:--:--\n",
      "     ----------------------------------    471.0/502.3 kB 14.4 MB/s eta 0:00:01\n",
      "     ------------------------------------- 502.3/502.3 kB 10.5 MB/s eta 0:00:00\n",
      "Collecting tzdata>=2022.1 (from pandas)\n",
      "  Downloading tzdata-2023.3-py2.py3-none-any.whl (341 kB)\n",
      "                                              0.0/341.8 kB ? eta -:--:--\n",
      "     ------------------------------------- 341.8/341.8 kB 10.7 MB/s eta 0:00:00\n",
      "Collecting numpy>=1.21.0 (from pandas)\n",
      "  Downloading numpy-1.24.3-cp311-cp311-win_amd64.whl (14.8 MB)\n",
      "                                              0.0/14.8 MB ? eta -:--:--\n",
      "     -                                        0.5/14.8 MB 11.3 MB/s eta 0:00:02\n",
      "     ---                                      1.1/14.8 MB 14.2 MB/s eta 0:00:01\n",
      "     ----                                     1.7/14.8 MB 13.4 MB/s eta 0:00:01\n",
      "     ------                                   2.2/14.8 MB 13.0 MB/s eta 0:00:01\n",
      "     -------                                  2.7/14.8 MB 13.2 MB/s eta 0:00:01\n",
      "     --------                                 3.2/14.8 MB 12.6 MB/s eta 0:00:01\n",
      "     ---------                                3.6/14.8 MB 12.8 MB/s eta 0:00:01\n",
      "     -----------                              4.2/14.8 MB 12.7 MB/s eta 0:00:01\n",
      "     ------------                             4.7/14.8 MB 12.6 MB/s eta 0:00:01\n",
      "     --------------                           5.2/14.8 MB 12.4 MB/s eta 0:00:01\n",
      "     ---------------                          5.7/14.8 MB 12.6 MB/s eta 0:00:01\n",
      "     ----------------                         6.2/14.8 MB 12.5 MB/s eta 0:00:01\n",
      "     ------------------                       6.7/14.8 MB 12.7 MB/s eta 0:00:01\n",
      "     -------------------                      7.3/14.8 MB 12.6 MB/s eta 0:00:01\n",
      "     --------------------                     7.8/14.8 MB 12.4 MB/s eta 0:00:01\n",
      "     ----------------------                   8.3/14.8 MB 12.3 MB/s eta 0:00:01\n",
      "     -----------------------                  8.9/14.8 MB 12.6 MB/s eta 0:00:01\n",
      "     -------------------------                9.4/14.8 MB 12.5 MB/s eta 0:00:01\n",
      "     --------------------------               9.9/14.8 MB 12.4 MB/s eta 0:00:01\n",
      "     ---------------------------             10.3/14.8 MB 12.4 MB/s eta 0:00:01\n",
      "     ----------------------------            10.9/14.8 MB 12.6 MB/s eta 0:00:01\n",
      "     ------------------------------          11.4/14.8 MB 12.6 MB/s eta 0:00:01\n",
      "     -------------------------------         12.0/14.8 MB 12.6 MB/s eta 0:00:01\n",
      "     --------------------------------        12.5/14.8 MB 12.4 MB/s eta 0:00:01\n",
      "     ----------------------------------      13.1/14.8 MB 12.3 MB/s eta 0:00:01\n",
      "     -----------------------------------     13.5/14.8 MB 12.6 MB/s eta 0:00:01\n",
      "     ------------------------------------    14.0/14.8 MB 12.4 MB/s eta 0:00:01\n",
      "     --------------------------------------  14.5/14.8 MB 12.6 MB/s eta 0:00:01\n",
      "     --------------------------------------  14.8/14.8 MB 12.6 MB/s eta 0:00:01\n",
      "     --------------------------------------- 14.8/14.8 MB 11.7 MB/s eta 0:00:00\n",
      "Requirement already satisfied: six>=1.5 in c:\\users\\강진영\\appdata\\local\\programs\\python\\python311\\lib\\site-packages (from python-dateutil>=2.8.2->pandas) (1.16.0)\n",
      "Installing collected packages: pytz, tzdata, numpy, pandas\n",
      "Successfully installed numpy-1.24.3 pandas-2.0.2 pytz-2023.3 tzdata-2023.3\n"
     ]
    }
   ],
   "source": [
    "!pip install pandas"
   ]
  },
  {
   "cell_type": "code",
   "execution_count": 38,
   "id": "563896cf",
   "metadata": {},
   "outputs": [],
   "source": [
    "import pandas as pd"
   ]
  },
  {
   "cell_type": "code",
   "execution_count": 40,
   "id": "c841cf59",
   "metadata": {},
   "outputs": [],
   "source": [
    "df = pd.DataFrame(lists)"
   ]
  },
  {
   "cell_type": "code",
   "execution_count": 41,
   "id": "7d5d11f7",
   "metadata": {},
   "outputs": [
    {
     "data": {
      "text/html": [
       "<div>\n",
       "<style scoped>\n",
       "    .dataframe tbody tr th:only-of-type {\n",
       "        vertical-align: middle;\n",
       "    }\n",
       "\n",
       "    .dataframe tbody tr th {\n",
       "        vertical-align: top;\n",
       "    }\n",
       "\n",
       "    .dataframe thead th {\n",
       "        text-align: right;\n",
       "    }\n",
       "</style>\n",
       "<table border=\"1\" class=\"dataframe\">\n",
       "  <thead>\n",
       "    <tr style=\"text-align: right;\">\n",
       "      <th></th>\n",
       "      <th>이름</th>\n",
       "      <th>위치</th>\n",
       "    </tr>\n",
       "  </thead>\n",
       "  <tbody>\n",
       "    <tr>\n",
       "      <th>0</th>\n",
       "      <td>가산디지털단지역점</td>\n",
       "      <td>서울시 금천구 가산동 60-3</td>\n",
       "    </tr>\n",
       "    <tr>\n",
       "      <th>1</th>\n",
       "      <td>강남구청점</td>\n",
       "      <td>서울 강남구 청담동 45-4</td>\n",
       "    </tr>\n",
       "    <tr>\n",
       "      <th>2</th>\n",
       "      <td>강남역사거리점</td>\n",
       "      <td>서울특별시 강남구 역삼동 820-10</td>\n",
       "    </tr>\n",
       "    <tr>\n",
       "      <th>3</th>\n",
       "      <td>강남역점</td>\n",
       "      <td>서울 강남구 역삼동822-7</td>\n",
       "    </tr>\n",
       "    <tr>\n",
       "      <th>4</th>\n",
       "      <td>강남점</td>\n",
       "      <td>서울 강남구 테헤란로4길 46 (역삼동 826-37) 쌍용 플래티넘, 1층</td>\n",
       "    </tr>\n",
       "    <tr>\n",
       "      <th>...</th>\n",
       "      <td>...</td>\n",
       "      <td>...</td>\n",
       "    </tr>\n",
       "    <tr>\n",
       "      <th>105</th>\n",
       "      <td>가산파트너스타워점</td>\n",
       "      <td></td>\n",
       "    </tr>\n",
       "    <tr>\n",
       "      <th>106</th>\n",
       "      <td>구로우림1차점</td>\n",
       "      <td></td>\n",
       "    </tr>\n",
       "    <tr>\n",
       "      <th>107</th>\n",
       "      <td>문정테라타워점</td>\n",
       "      <td>서울특별시 송파구 송파대로 167, 문정역테라타워 A동 G123호</td>\n",
       "    </tr>\n",
       "    <tr>\n",
       "      <th>108</th>\n",
       "      <td>시흥은계점</td>\n",
       "      <td>경기도 시흥시 은계번영길 11,111호</td>\n",
       "    </tr>\n",
       "    <tr>\n",
       "      <th>109</th>\n",
       "      <td>원주무실점</td>\n",
       "      <td></td>\n",
       "    </tr>\n",
       "  </tbody>\n",
       "</table>\n",
       "<p>110 rows × 2 columns</p>\n",
       "</div>"
      ],
      "text/plain": [
       "            이름                                         위치\n",
       "0    가산디지털단지역점                           서울시 금천구 가산동 60-3\n",
       "1        강남구청점                            서울 강남구 청담동 45-4\n",
       "2      강남역사거리점                       서울특별시 강남구 역삼동 820-10\n",
       "3         강남역점                            서울 강남구 역삼동822-7\n",
       "4          강남점  서울 강남구 테헤란로4길 46 (역삼동 826-37) 쌍용 플래티넘, 1층\n",
       "..         ...                                        ...\n",
       "105  가산파트너스타워점                                           \n",
       "106    구로우림1차점                                           \n",
       "107    문정테라타워점       서울특별시 송파구 송파대로 167, 문정역테라타워 A동 G123호\n",
       "108      시흥은계점                      경기도 시흥시 은계번영길 11,111호\n",
       "109      원주무실점                                           \n",
       "\n",
       "[110 rows x 2 columns]"
      ]
     },
     "execution_count": 41,
     "metadata": {},
     "output_type": "execute_result"
    }
   ],
   "source": [
    "df"
   ]
  },
  {
   "cell_type": "code",
   "execution_count": null,
   "id": "c6f1c448",
   "metadata": {},
   "outputs": [],
   "source": [
    "pip install openpyxl"
   ]
  },
  {
   "cell_type": "code",
   "execution_count": 42,
   "id": "be496b7b",
   "metadata": {},
   "outputs": [
    {
     "ename": "ModuleNotFoundError",
     "evalue": "No module named 'openpyxl'",
     "output_type": "error",
     "traceback": [
      "\u001b[1;31m---------------------------------------------------------------------------\u001b[0m",
      "\u001b[1;31mModuleNotFoundError\u001b[0m                       Traceback (most recent call last)",
      "Cell \u001b[1;32mIn[42], line 1\u001b[0m\n\u001b[1;32m----> 1\u001b[0m \u001b[43mdf\u001b[49m\u001b[38;5;241;43m.\u001b[39;49m\u001b[43mto_excel\u001b[49m\u001b[43m(\u001b[49m\u001b[38;5;124;43m'\u001b[39;49m\u001b[38;5;124;43m바나프레소.xlsx\u001b[39;49m\u001b[38;5;124;43m'\u001b[39;49m\u001b[43m)\u001b[49m\n",
      "File \u001b[1;32m~\\AppData\\Local\\Programs\\Python\\Python311\\Lib\\site-packages\\pandas\\core\\generic.py:2252\u001b[0m, in \u001b[0;36mNDFrame.to_excel\u001b[1;34m(self, excel_writer, sheet_name, na_rep, float_format, columns, header, index, index_label, startrow, startcol, engine, merge_cells, inf_rep, freeze_panes, storage_options)\u001b[0m\n\u001b[0;32m   2239\u001b[0m \u001b[38;5;28;01mfrom\u001b[39;00m \u001b[38;5;21;01mpandas\u001b[39;00m\u001b[38;5;21;01m.\u001b[39;00m\u001b[38;5;21;01mio\u001b[39;00m\u001b[38;5;21;01m.\u001b[39;00m\u001b[38;5;21;01mformats\u001b[39;00m\u001b[38;5;21;01m.\u001b[39;00m\u001b[38;5;21;01mexcel\u001b[39;00m \u001b[38;5;28;01mimport\u001b[39;00m ExcelFormatter\n\u001b[0;32m   2241\u001b[0m formatter \u001b[38;5;241m=\u001b[39m ExcelFormatter(\n\u001b[0;32m   2242\u001b[0m     df,\n\u001b[0;32m   2243\u001b[0m     na_rep\u001b[38;5;241m=\u001b[39mna_rep,\n\u001b[1;32m   (...)\u001b[0m\n\u001b[0;32m   2250\u001b[0m     inf_rep\u001b[38;5;241m=\u001b[39minf_rep,\n\u001b[0;32m   2251\u001b[0m )\n\u001b[1;32m-> 2252\u001b[0m \u001b[43mformatter\u001b[49m\u001b[38;5;241;43m.\u001b[39;49m\u001b[43mwrite\u001b[49m\u001b[43m(\u001b[49m\n\u001b[0;32m   2253\u001b[0m \u001b[43m    \u001b[49m\u001b[43mexcel_writer\u001b[49m\u001b[43m,\u001b[49m\n\u001b[0;32m   2254\u001b[0m \u001b[43m    \u001b[49m\u001b[43msheet_name\u001b[49m\u001b[38;5;241;43m=\u001b[39;49m\u001b[43msheet_name\u001b[49m\u001b[43m,\u001b[49m\n\u001b[0;32m   2255\u001b[0m \u001b[43m    \u001b[49m\u001b[43mstartrow\u001b[49m\u001b[38;5;241;43m=\u001b[39;49m\u001b[43mstartrow\u001b[49m\u001b[43m,\u001b[49m\n\u001b[0;32m   2256\u001b[0m \u001b[43m    \u001b[49m\u001b[43mstartcol\u001b[49m\u001b[38;5;241;43m=\u001b[39;49m\u001b[43mstartcol\u001b[49m\u001b[43m,\u001b[49m\n\u001b[0;32m   2257\u001b[0m \u001b[43m    \u001b[49m\u001b[43mfreeze_panes\u001b[49m\u001b[38;5;241;43m=\u001b[39;49m\u001b[43mfreeze_panes\u001b[49m\u001b[43m,\u001b[49m\n\u001b[0;32m   2258\u001b[0m \u001b[43m    \u001b[49m\u001b[43mengine\u001b[49m\u001b[38;5;241;43m=\u001b[39;49m\u001b[43mengine\u001b[49m\u001b[43m,\u001b[49m\n\u001b[0;32m   2259\u001b[0m \u001b[43m    \u001b[49m\u001b[43mstorage_options\u001b[49m\u001b[38;5;241;43m=\u001b[39;49m\u001b[43mstorage_options\u001b[49m\u001b[43m,\u001b[49m\n\u001b[0;32m   2260\u001b[0m \u001b[43m\u001b[49m\u001b[43m)\u001b[49m\n",
      "File \u001b[1;32m~\\AppData\\Local\\Programs\\Python\\Python311\\Lib\\site-packages\\pandas\\io\\formats\\excel.py:934\u001b[0m, in \u001b[0;36mExcelFormatter.write\u001b[1;34m(self, writer, sheet_name, startrow, startcol, freeze_panes, engine, storage_options)\u001b[0m\n\u001b[0;32m    930\u001b[0m     need_save \u001b[38;5;241m=\u001b[39m \u001b[38;5;28;01mFalse\u001b[39;00m\n\u001b[0;32m    931\u001b[0m \u001b[38;5;28;01melse\u001b[39;00m:\n\u001b[0;32m    932\u001b[0m     \u001b[38;5;66;03m# error: Cannot instantiate abstract class 'ExcelWriter' with abstract\u001b[39;00m\n\u001b[0;32m    933\u001b[0m     \u001b[38;5;66;03m# attributes 'engine', 'save', 'supported_extensions' and 'write_cells'\u001b[39;00m\n\u001b[1;32m--> 934\u001b[0m     writer \u001b[38;5;241m=\u001b[39m \u001b[43mExcelWriter\u001b[49m\u001b[43m(\u001b[49m\u001b[43m  \u001b[49m\u001b[38;5;66;43;03m# type: ignore[abstract]\u001b[39;49;00m\n\u001b[0;32m    935\u001b[0m \u001b[43m        \u001b[49m\u001b[43mwriter\u001b[49m\u001b[43m,\u001b[49m\u001b[43m \u001b[49m\u001b[43mengine\u001b[49m\u001b[38;5;241;43m=\u001b[39;49m\u001b[43mengine\u001b[49m\u001b[43m,\u001b[49m\u001b[43m \u001b[49m\u001b[43mstorage_options\u001b[49m\u001b[38;5;241;43m=\u001b[39;49m\u001b[43mstorage_options\u001b[49m\n\u001b[0;32m    936\u001b[0m \u001b[43m    \u001b[49m\u001b[43m)\u001b[49m\n\u001b[0;32m    937\u001b[0m     need_save \u001b[38;5;241m=\u001b[39m \u001b[38;5;28;01mTrue\u001b[39;00m\n\u001b[0;32m    939\u001b[0m \u001b[38;5;28;01mtry\u001b[39;00m:\n",
      "File \u001b[1;32m~\\AppData\\Local\\Programs\\Python\\Python311\\Lib\\site-packages\\pandas\\io\\excel\\_openpyxl.py:56\u001b[0m, in \u001b[0;36mOpenpyxlWriter.__init__\u001b[1;34m(self, path, engine, date_format, datetime_format, mode, storage_options, if_sheet_exists, engine_kwargs, **kwargs)\u001b[0m\n\u001b[0;32m     43\u001b[0m \u001b[38;5;28;01mdef\u001b[39;00m \u001b[38;5;21m__init__\u001b[39m(\n\u001b[0;32m     44\u001b[0m     \u001b[38;5;28mself\u001b[39m,\n\u001b[0;32m     45\u001b[0m     path: FilePath \u001b[38;5;241m|\u001b[39m WriteExcelBuffer \u001b[38;5;241m|\u001b[39m ExcelWriter,\n\u001b[1;32m   (...)\u001b[0m\n\u001b[0;32m     54\u001b[0m ) \u001b[38;5;241m-\u001b[39m\u001b[38;5;241m>\u001b[39m \u001b[38;5;28;01mNone\u001b[39;00m:\n\u001b[0;32m     55\u001b[0m     \u001b[38;5;66;03m# Use the openpyxl module as the Excel writer.\u001b[39;00m\n\u001b[1;32m---> 56\u001b[0m     \u001b[38;5;28;01mfrom\u001b[39;00m \u001b[38;5;21;01mopenpyxl\u001b[39;00m\u001b[38;5;21;01m.\u001b[39;00m\u001b[38;5;21;01mworkbook\u001b[39;00m \u001b[38;5;28;01mimport\u001b[39;00m Workbook\n\u001b[0;32m     58\u001b[0m     engine_kwargs \u001b[38;5;241m=\u001b[39m combine_kwargs(engine_kwargs, kwargs)\n\u001b[0;32m     60\u001b[0m     \u001b[38;5;28msuper\u001b[39m()\u001b[38;5;241m.\u001b[39m\u001b[38;5;21m__init__\u001b[39m(\n\u001b[0;32m     61\u001b[0m         path,\n\u001b[0;32m     62\u001b[0m         mode\u001b[38;5;241m=\u001b[39mmode,\n\u001b[1;32m   (...)\u001b[0m\n\u001b[0;32m     65\u001b[0m         engine_kwargs\u001b[38;5;241m=\u001b[39mengine_kwargs,\n\u001b[0;32m     66\u001b[0m     )\n",
      "\u001b[1;31mModuleNotFoundError\u001b[0m: No module named 'openpyxl'"
     ]
    }
   ],
   "source": [
    "df.to_excel('바나프레소.xlsx')"
   ]
  }
 ],
 "metadata": {
  "kernelspec": {
   "display_name": "Python 3 (ipykernel)",
   "language": "python",
   "name": "python3"
  },
  "language_info": {
   "codemirror_mode": {
    "name": "ipython",
    "version": 3
   },
   "file_extension": ".py",
   "mimetype": "text/x-python",
   "name": "python",
   "nbconvert_exporter": "python",
   "pygments_lexer": "ipython3",
   "version": "3.11.3"
  }
 },
 "nbformat": 4,
 "nbformat_minor": 5
}
